{
 "cells": [
  {
   "cell_type": "code",
   "execution_count": 2,
   "metadata": {},
   "outputs": [],
   "source": [
    "import requests\n",
    "import pandas as pd\n",
    "import numpy as np\n",
    "import json"
   ]
  },
  {
   "cell_type": "code",
   "execution_count": 3,
   "metadata": {},
   "outputs": [],
   "source": [
    "df=pd.DataFrame(columns=['date','net_asset_value','id'])"
   ]
  },
  {
   "cell_type": "code",
   "execution_count": 4,
   "metadata": {},
   "outputs": [],
   "source": [
    "url='https://fintual.cl/api/real_assets/15077/days?from_date=%222022-01-01%22&to_date=%222022-12-21%22'\n",
    "\n",
    "response=requests.get(url).json()\n",
    "\n",
    "funds=[\"15077\",\"186\",\"187\",\"188\"]\n",
    "\n",
    "for fund in funds:\n",
    "    url='https://fintual.cl/api/real_assets/'+fund+'/days?from_date=%222022-01-01%22&to_date=%222022-12-21%22'\n",
    "    response=requests.get(url).json()\n",
    "    for date_fund in response['data']:\n",
    "        net_asset_value=date_fund['attributes']['net_asset_value']\n",
    "        date=date_fund['attributes']['date']\n",
    "        id=date_fund['id']\n",
    "        df= df.append({'date':date,'net_asset_value':net_asset_value,'id':id},ignore_index=True)\n"
   ]
  },
  {
   "cell_type": "code",
   "execution_count": 5,
   "metadata": {},
   "outputs": [],
   "source": [
    "df['fund_code']=df['id'].str[:3].astype(int)\n",
    "\n",
    "df['fund_name']=np.where(df['fund_code']==150, 'Very Conservative Streep',\n",
    "                np.where(df['fund_code']==186, 'Risky Norris',\n",
    "                np.where(df['fund_code']==187, 'Moderate Pit',\n",
    "                np.where(df['fund_code']==188,'Conservative Clooney', 'Error'))))\n",
    "\n"
   ]
  },
  {
   "cell_type": "code",
   "execution_count": 16,
   "metadata": {},
   "outputs": [],
   "source": [
    "df['net_asset_value_next_day'] = df.groupby('fund_name')['net_asset_value'].shift(1).astype(float)\n",
    "df['net_asset_value']=df['net_asset_value'].astype(float)\n",
    "df['profit(%)']=((df['net_asset_value']-df['net_asset_value_next_day'])/df['net_asset_value_next_day'])*100"
   ]
  },
  {
   "cell_type": "code",
   "execution_count": 17,
   "metadata": {},
   "outputs": [
    {
     "data": {
      "text/html": [
       "<div>\n",
       "<style scoped>\n",
       "    .dataframe tbody tr th:only-of-type {\n",
       "        vertical-align: middle;\n",
       "    }\n",
       "\n",
       "    .dataframe tbody tr th {\n",
       "        vertical-align: top;\n",
       "    }\n",
       "\n",
       "    .dataframe thead th {\n",
       "        text-align: right;\n",
       "    }\n",
       "</style>\n",
       "<table border=\"1\" class=\"dataframe\">\n",
       "  <thead>\n",
       "    <tr style=\"text-align: right;\">\n",
       "      <th></th>\n",
       "      <th>date</th>\n",
       "      <th>fund_name</th>\n",
       "      <th>profit(%)</th>\n",
       "    </tr>\n",
       "  </thead>\n",
       "  <tbody>\n",
       "    <tr>\n",
       "      <th>0</th>\n",
       "      <td>2022-01-01</td>\n",
       "      <td>Very Conservative Streep</td>\n",
       "      <td>NaN</td>\n",
       "    </tr>\n",
       "    <tr>\n",
       "      <th>1</th>\n",
       "      <td>2022-01-02</td>\n",
       "      <td>Very Conservative Streep</td>\n",
       "      <td>0.011109</td>\n",
       "    </tr>\n",
       "    <tr>\n",
       "      <th>2</th>\n",
       "      <td>2022-01-03</td>\n",
       "      <td>Very Conservative Streep</td>\n",
       "      <td>0.011108</td>\n",
       "    </tr>\n",
       "    <tr>\n",
       "      <th>3</th>\n",
       "      <td>2022-01-04</td>\n",
       "      <td>Very Conservative Streep</td>\n",
       "      <td>0.011107</td>\n",
       "    </tr>\n",
       "    <tr>\n",
       "      <th>4</th>\n",
       "      <td>2022-01-05</td>\n",
       "      <td>Very Conservative Streep</td>\n",
       "      <td>0.011115</td>\n",
       "    </tr>\n",
       "    <tr>\n",
       "      <th>...</th>\n",
       "      <td>...</td>\n",
       "      <td>...</td>\n",
       "      <td>...</td>\n",
       "    </tr>\n",
       "    <tr>\n",
       "      <th>1415</th>\n",
       "      <td>2022-12-17</td>\n",
       "      <td>Conservative Clooney</td>\n",
       "      <td>-0.003254</td>\n",
       "    </tr>\n",
       "    <tr>\n",
       "      <th>1416</th>\n",
       "      <td>2022-12-18</td>\n",
       "      <td>Conservative Clooney</td>\n",
       "      <td>-0.003262</td>\n",
       "    </tr>\n",
       "    <tr>\n",
       "      <th>1417</th>\n",
       "      <td>2022-12-19</td>\n",
       "      <td>Conservative Clooney</td>\n",
       "      <td>-0.154449</td>\n",
       "    </tr>\n",
       "    <tr>\n",
       "      <th>1418</th>\n",
       "      <td>2022-12-20</td>\n",
       "      <td>Conservative Clooney</td>\n",
       "      <td>-0.164263</td>\n",
       "    </tr>\n",
       "    <tr>\n",
       "      <th>1419</th>\n",
       "      <td>2022-12-21</td>\n",
       "      <td>Conservative Clooney</td>\n",
       "      <td>-0.119321</td>\n",
       "    </tr>\n",
       "  </tbody>\n",
       "</table>\n",
       "<p>1420 rows × 3 columns</p>\n",
       "</div>"
      ],
      "text/plain": [
       "            date                 fund_name  profit(%)\n",
       "0     2022-01-01  Very Conservative Streep        NaN\n",
       "1     2022-01-02  Very Conservative Streep   0.011109\n",
       "2     2022-01-03  Very Conservative Streep   0.011108\n",
       "3     2022-01-04  Very Conservative Streep   0.011107\n",
       "4     2022-01-05  Very Conservative Streep   0.011115\n",
       "...          ...                       ...        ...\n",
       "1415  2022-12-17      Conservative Clooney  -0.003254\n",
       "1416  2022-12-18      Conservative Clooney  -0.003262\n",
       "1417  2022-12-19      Conservative Clooney  -0.154449\n",
       "1418  2022-12-20      Conservative Clooney  -0.164263\n",
       "1419  2022-12-21      Conservative Clooney  -0.119321\n",
       "\n",
       "[1420 rows x 3 columns]"
      ]
     },
     "execution_count": 17,
     "metadata": {},
     "output_type": "execute_result"
    }
   ],
   "source": [
    "df[['date','fund_name','profit(%)']]"
   ]
  },
  {
   "attachments": {},
   "cell_type": "markdown",
   "metadata": {},
   "source": [
    "# intentar agregar INPUT"
   ]
  }
 ],
 "metadata": {
  "kernelspec": {
   "display_name": "Python 3",
   "language": "python",
   "name": "python3"
  },
  "language_info": {
   "codemirror_mode": {
    "name": "ipython",
    "version": 3
   },
   "file_extension": ".py",
   "mimetype": "text/x-python",
   "name": "python",
   "nbconvert_exporter": "python",
   "pygments_lexer": "ipython3",
   "version": "3.9.6"
  },
  "orig_nbformat": 4,
  "vscode": {
   "interpreter": {
    "hash": "a83978288a9cc1a30680d6085268241b06d47b1234a9cc6952d6d3330a075d51"
   }
  }
 },
 "nbformat": 4,
 "nbformat_minor": 2
}
