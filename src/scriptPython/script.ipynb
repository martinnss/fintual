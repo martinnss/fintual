{
 "cells": [
  {
   "cell_type": "code",
   "execution_count": 1,
   "metadata": {},
   "outputs": [],
   "source": [
    "# Getting data from the Fintual API"
   ]
  },
  {
   "cell_type": "code",
   "execution_count": 2,
   "metadata": {},
   "outputs": [],
   "source": [
    "import requests\n",
    "import pandas as pd\n",
    "import time\n",
    "import json"
   ]
  },
  {
   "cell_type": "code",
   "execution_count": 3,
   "metadata": {},
   "outputs": [
    {
     "name": "stdout",
     "output_type": "stream",
     "text": [
      "{'date': '2022-01-01', 'fixed_management_fee': '0.0', 'fixed_management_fee_type': 'clp', 'institutional_investors': 0, 'institutional_investors_type': 'integer', 'iva_exclusive_expenses': '0.0', 'iva_exclusive_expenses_type': 'clp', 'iva_inclusive_expenses': '0.0', 'iva_inclusive_expenses_type': 'clp', 'net_asset_value': '1040.5553', 'net_asset_value_type': 'clp', 'new_shares': '0.0', 'new_shares_type': 'decimal', 'outstanding_shares': '29918155.604', 'outstanding_shares_type': 'decimal', 'purchase_fee': '0.0', 'purchase_fee_type': 'clp', 'redeemed_shares': '0.0', 'redeemed_shares_type': 'decimal', 'redemption_fee': '0.0', 'redemption_fee_type': 'clp', 'shareholders': 10660, 'shareholders_type': 'integer', 'total_assets': '31770196990.0', 'total_assets_type': 'clp', 'total_net_assets': '31131494041.0', 'total_net_assets_type': 'clp', 'variable_management_fee': '0.0', 'variable_management_fee_type': 'clp', 'price': 1040.5553}\n"
     ]
    }
   ],
   "source": [
    "url='https://fintual.cl/api/real_assets/15077/days?from_date=%222022-01-01%22&to_date=%222022-12-21%22'\n",
    "\n",
    "response=requests.get(url).json()\n",
    "\n",
    "print(response['data'][0]['attributes'])"
   ]
  },
  {
   "cell_type": "code",
   "execution_count": 4,
   "metadata": {},
   "outputs": [],
   "source": [
    "df=pd.DataFrame(columns=['date','net_asset_value'])"
   ]
  },
  {
   "cell_type": "code",
   "execution_count": 5,
   "metadata": {},
   "outputs": [],
   "source": [
    "\n",
    "\n",
    "\n",
    "for date_fund in response['data']:\n",
    "    net_asset_value=date_fund['attributes']['net_asset_value']\n",
    "    date=date_fund['attributes']['date']\n",
    "    df= df.append({'date':date,'net_asset_value':net_asset_value},ignore_index=True)\n"
   ]
  },
  {
   "cell_type": "code",
   "execution_count": 6,
   "metadata": {},
   "outputs": [
    {
     "data": {
      "text/html": [
       "<div>\n",
       "<style scoped>\n",
       "    .dataframe tbody tr th:only-of-type {\n",
       "        vertical-align: middle;\n",
       "    }\n",
       "\n",
       "    .dataframe tbody tr th {\n",
       "        vertical-align: top;\n",
       "    }\n",
       "\n",
       "    .dataframe thead th {\n",
       "        text-align: right;\n",
       "    }\n",
       "</style>\n",
       "<table border=\"1\" class=\"dataframe\">\n",
       "  <thead>\n",
       "    <tr style=\"text-align: right;\">\n",
       "      <th></th>\n",
       "      <th>date</th>\n",
       "      <th>net_asset_value</th>\n",
       "    </tr>\n",
       "  </thead>\n",
       "  <tbody>\n",
       "    <tr>\n",
       "      <th>0</th>\n",
       "      <td>2022-01-01</td>\n",
       "      <td>1040.5553</td>\n",
       "    </tr>\n",
       "    <tr>\n",
       "      <th>1</th>\n",
       "      <td>2022-01-02</td>\n",
       "      <td>1040.6709</td>\n",
       "    </tr>\n",
       "    <tr>\n",
       "      <th>2</th>\n",
       "      <td>2022-01-03</td>\n",
       "      <td>1040.7865</td>\n",
       "    </tr>\n",
       "    <tr>\n",
       "      <th>3</th>\n",
       "      <td>2022-01-04</td>\n",
       "      <td>1040.9021</td>\n",
       "    </tr>\n",
       "    <tr>\n",
       "      <th>4</th>\n",
       "      <td>2022-01-05</td>\n",
       "      <td>1041.0178</td>\n",
       "    </tr>\n",
       "    <tr>\n",
       "      <th>...</th>\n",
       "      <td>...</td>\n",
       "      <td>...</td>\n",
       "    </tr>\n",
       "    <tr>\n",
       "      <th>350</th>\n",
       "      <td>2022-12-17</td>\n",
       "      <td>1130.0748</td>\n",
       "    </tr>\n",
       "    <tr>\n",
       "      <th>351</th>\n",
       "      <td>2022-12-18</td>\n",
       "      <td>1130.4279</td>\n",
       "    </tr>\n",
       "    <tr>\n",
       "      <th>352</th>\n",
       "      <td>2022-12-19</td>\n",
       "      <td>1130.7812</td>\n",
       "    </tr>\n",
       "    <tr>\n",
       "      <th>353</th>\n",
       "      <td>2022-12-20</td>\n",
       "      <td>1131.1346</td>\n",
       "    </tr>\n",
       "    <tr>\n",
       "      <th>354</th>\n",
       "      <td>2022-12-21</td>\n",
       "      <td>1131.4881</td>\n",
       "    </tr>\n",
       "  </tbody>\n",
       "</table>\n",
       "<p>355 rows × 2 columns</p>\n",
       "</div>"
      ],
      "text/plain": [
       "           date net_asset_value\n",
       "0    2022-01-01       1040.5553\n",
       "1    2022-01-02       1040.6709\n",
       "2    2022-01-03       1040.7865\n",
       "3    2022-01-04       1040.9021\n",
       "4    2022-01-05       1041.0178\n",
       "..          ...             ...\n",
       "350  2022-12-17       1130.0748\n",
       "351  2022-12-18       1130.4279\n",
       "352  2022-12-19       1130.7812\n",
       "353  2022-12-20       1131.1346\n",
       "354  2022-12-21       1131.4881\n",
       "\n",
       "[355 rows x 2 columns]"
      ]
     },
     "execution_count": 6,
     "metadata": {},
     "output_type": "execute_result"
    }
   ],
   "source": []
  }
 ],
 "metadata": {
  "kernelspec": {
   "display_name": "Python 3",
   "language": "python",
   "name": "python3"
  },
  "language_info": {
   "codemirror_mode": {
    "name": "ipython",
    "version": 3
   },
   "file_extension": ".py",
   "mimetype": "text/x-python",
   "name": "python",
   "nbconvert_exporter": "python",
   "pygments_lexer": "ipython3",
   "version": "3.9.6"
  },
  "orig_nbformat": 4,
  "vscode": {
   "interpreter": {
    "hash": "a83978288a9cc1a30680d6085268241b06d47b1234a9cc6952d6d3330a075d51"
   }
  }
 },
 "nbformat": 4,
 "nbformat_minor": 2
}
